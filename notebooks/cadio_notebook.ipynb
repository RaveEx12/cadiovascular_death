{
 "cells": [
  {
   "cell_type": "markdown",
   "metadata": {},
   "source": [
    "# Cadiocascular Death Regression Analysis"
   ]
  },
  {
   "cell_type": "markdown",
   "metadata": {},
   "source": [
    "---"
   ]
  },
  {
   "cell_type": "markdown",
   "metadata": {},
   "source": [
    "# Importing Data Dependables"
   ]
  },
  {
   "cell_type": "code",
   "execution_count": null,
   "metadata": {},
   "outputs": [],
   "source": []
  },
  {
   "cell_type": "code",
   "execution_count": 139,
   "metadata": {},
   "outputs": [],
   "source": [
    "import numpy as np\n",
    "import pandas as pd\n",
    "import matplotlib.pyplot as plt\n",
    "import seaborn as sns\n",
    "from sklearn.model_selection import train_test_split\n",
    "from sklearn.preprocessing import OneHotEncoder, StandardScaler\n",
    "from sklearn.metrics import mean_absolute_error, mean_squared_error\n",
    "\n",
    "\n",
    "# To surpress warnings\n",
    "import warnings\n",
    "warnings.filterwarnings('ignore')"
   ]
  },
  {
   "cell_type": "code",
   "execution_count": 140,
   "metadata": {},
   "outputs": [
    {
     "data": {
      "text/html": [
       "<div>\n",
       "<style scoped>\n",
       "    .dataframe tbody tr th:only-of-type {\n",
       "        vertical-align: middle;\n",
       "    }\n",
       "\n",
       "    .dataframe tbody tr th {\n",
       "        vertical-align: top;\n",
       "    }\n",
       "\n",
       "    .dataframe thead th {\n",
       "        text-align: right;\n",
       "    }\n",
       "</style>\n",
       "<table border=\"1\" class=\"dataframe\">\n",
       "  <thead>\n",
       "    <tr style=\"text-align: right;\">\n",
       "      <th></th>\n",
       "      <th>Entity</th>\n",
       "      <th>Code</th>\n",
       "      <th>Year</th>\n",
       "      <th>tempchange</th>\n",
       "      <th>CO2</th>\n",
       "      <th>Deaths</th>\n",
       "    </tr>\n",
       "  </thead>\n",
       "  <tbody>\n",
       "    <tr>\n",
       "      <th>0</th>\n",
       "      <td>Afghanistan</td>\n",
       "      <td>AFG</td>\n",
       "      <td>1990</td>\n",
       "      <td>0.000894</td>\n",
       "      <td>14209854.0</td>\n",
       "      <td>373.796590</td>\n",
       "    </tr>\n",
       "    <tr>\n",
       "      <th>1</th>\n",
       "      <td>Afghanistan</td>\n",
       "      <td>AFG</td>\n",
       "      <td>1991</td>\n",
       "      <td>0.000891</td>\n",
       "      <td>14436271.0</td>\n",
       "      <td>266.298725</td>\n",
       "    </tr>\n",
       "    <tr>\n",
       "      <th>2</th>\n",
       "      <td>Afghanistan</td>\n",
       "      <td>AFG</td>\n",
       "      <td>1992</td>\n",
       "      <td>0.000891</td>\n",
       "      <td>13517736.0</td>\n",
       "      <td>224.447196</td>\n",
       "    </tr>\n",
       "    <tr>\n",
       "      <th>3</th>\n",
       "      <td>Afghanistan</td>\n",
       "      <td>AFG</td>\n",
       "      <td>1993</td>\n",
       "      <td>0.000890</td>\n",
       "      <td>12913293.0</td>\n",
       "      <td>278.393699</td>\n",
       "    </tr>\n",
       "    <tr>\n",
       "      <th>4</th>\n",
       "      <td>Afghanistan</td>\n",
       "      <td>AFG</td>\n",
       "      <td>1994</td>\n",
       "      <td>0.000888</td>\n",
       "      <td>13214674.0</td>\n",
       "      <td>370.591181</td>\n",
       "    </tr>\n",
       "  </tbody>\n",
       "</table>\n",
       "</div>"
      ],
      "text/plain": [
       "        Entity Code  Year  tempchange         CO2      Deaths\n",
       "0  Afghanistan  AFG  1990    0.000894  14209854.0  373.796590\n",
       "1  Afghanistan  AFG  1991    0.000891  14436271.0  266.298725\n",
       "2  Afghanistan  AFG  1992    0.000891  13517736.0  224.447196\n",
       "3  Afghanistan  AFG  1993    0.000890  12913293.0  278.393699\n",
       "4  Afghanistan  AFG  1994    0.000888  13214674.0  370.591181"
      ]
     },
     "execution_count": 140,
     "metadata": {},
     "output_type": "execute_result"
    }
   ],
   "source": [
    "# importing the datasets for the task\n",
    "\n",
    "df = pd.read_csv(r\"C:\\Users\\rave_consolidate\\Desktop\\cadiovascular_death\\dataset\\final_merge.csv\")\n",
    "df.head()"
   ]
  },
  {
   "cell_type": "code",
   "execution_count": null,
   "metadata": {},
   "outputs": [],
   "source": []
  },
  {
   "cell_type": "markdown",
   "metadata": {},
   "source": [
    "# Data Preparation and Preprocessing"
   ]
  },
  {
   "cell_type": "code",
   "execution_count": null,
   "metadata": {},
   "outputs": [],
   "source": []
  },
  {
   "cell_type": "code",
   "execution_count": 141,
   "metadata": {},
   "outputs": [
    {
     "data": {
      "text/html": [
       "<div>\n",
       "<style scoped>\n",
       "    .dataframe tbody tr th:only-of-type {\n",
       "        vertical-align: middle;\n",
       "    }\n",
       "\n",
       "    .dataframe tbody tr th {\n",
       "        vertical-align: top;\n",
       "    }\n",
       "\n",
       "    .dataframe thead th {\n",
       "        text-align: right;\n",
       "    }\n",
       "</style>\n",
       "<table border=\"1\" class=\"dataframe\">\n",
       "  <thead>\n",
       "    <tr style=\"text-align: right;\">\n",
       "      <th></th>\n",
       "      <th>Company Name</th>\n",
       "      <th>Ticker</th>\n",
       "      <th>ISIN</th>\n",
       "      <th>GHG</th>\n",
       "      <th>Emissions</th>\n",
       "      <th>Predicted Value</th>\n",
       "    </tr>\n",
       "  </thead>\n",
       "  <tbody>\n",
       "    <tr>\n",
       "      <th>0</th>\n",
       "      <td>Acciona</td>\n",
       "      <td>ANA</td>\n",
       "      <td>ES0125220311</td>\n",
       "      <td>CO2</td>\n",
       "      <td>306905.00</td>\n",
       "      <td>4.248217e-06</td>\n",
       "    </tr>\n",
       "    <tr>\n",
       "      <th>1</th>\n",
       "      <td>Acciona Energia</td>\n",
       "      <td>ANE</td>\n",
       "      <td>ES0105563003</td>\n",
       "      <td>CO2</td>\n",
       "      <td>55276.00</td>\n",
       "      <td>5.498951e-07</td>\n",
       "    </tr>\n",
       "    <tr>\n",
       "      <th>2</th>\n",
       "      <td>Acerinox</td>\n",
       "      <td>ACX</td>\n",
       "      <td>ES0132105018</td>\n",
       "      <td>CO2</td>\n",
       "      <td>4333367.00</td>\n",
       "      <td>5.412198e-05</td>\n",
       "    </tr>\n",
       "    <tr>\n",
       "      <th>3</th>\n",
       "      <td>Aena</td>\n",
       "      <td>AENA</td>\n",
       "      <td>ES0105046009</td>\n",
       "      <td>CO2</td>\n",
       "      <td>51516.69</td>\n",
       "      <td>1.100690e-06</td>\n",
       "    </tr>\n",
       "    <tr>\n",
       "      <th>4</th>\n",
       "      <td>Amadeus IT Group</td>\n",
       "      <td>AMS</td>\n",
       "      <td>ES0109067019</td>\n",
       "      <td>CO2</td>\n",
       "      <td>13152.00</td>\n",
       "      <td>2.369140e-07</td>\n",
       "    </tr>\n",
       "  </tbody>\n",
       "</table>\n",
       "</div>"
      ],
      "text/plain": [
       "       Company Name Ticker          ISIN  GHG   Emissions  Predicted Value\n",
       "0           Acciona    ANA  ES0125220311  CO2   306905.00     4.248217e-06\n",
       "1   Acciona Energia    ANE  ES0105563003  CO2    55276.00     5.498951e-07\n",
       "2          Acerinox    ACX  ES0132105018  CO2  4333367.00     5.412198e-05\n",
       "3              Aena   AENA  ES0105046009  CO2    51516.69     1.100690e-06\n",
       "4  Amadeus IT Group    AMS  ES0109067019  CO2    13152.00     2.369140e-07"
      ]
     },
     "execution_count": 141,
     "metadata": {},
     "output_type": "execute_result"
    }
   ],
   "source": [
    "df_test = pd.read_csv(r\"C:\\Users\\rave_consolidate\\Desktop\\cadiovascular_death\\dataset\\company_test_data.csv\")\n",
    "df_test.head()"
   ]
  },
  {
   "cell_type": "code",
   "execution_count": 142,
   "metadata": {},
   "outputs": [
    {
     "name": "stdout",
     "output_type": "stream",
     "text": [
      "<class 'pandas.core.frame.DataFrame'>\n",
      "RangeIndex: 6144 entries, 0 to 6143\n",
      "Data columns (total 6 columns):\n",
      " #   Column      Non-Null Count  Dtype  \n",
      "---  ------      --------------  -----  \n",
      " 0   Entity      6144 non-null   object \n",
      " 1   Code        6144 non-null   object \n",
      " 2   Year        6144 non-null   int64  \n",
      " 3   tempchange  6144 non-null   float64\n",
      " 4   CO2         6144 non-null   float64\n",
      " 5   Deaths      6144 non-null   float64\n",
      "dtypes: float64(3), int64(1), object(2)\n",
      "memory usage: 288.1+ KB\n"
     ]
    }
   ],
   "source": [
    "# Trainset info\n",
    "\n",
    "df.info()"
   ]
  },
  {
   "cell_type": "code",
   "execution_count": 143,
   "metadata": {},
   "outputs": [
    {
     "name": "stdout",
     "output_type": "stream",
     "text": [
      "<class 'pandas.core.frame.DataFrame'>\n",
      "RangeIndex: 35 entries, 0 to 34\n",
      "Data columns (total 6 columns):\n",
      " #   Column           Non-Null Count  Dtype  \n",
      "---  ------           --------------  -----  \n",
      " 0   Company Name     35 non-null     object \n",
      " 1   Ticker           35 non-null     object \n",
      " 2   ISIN             35 non-null     object \n",
      " 3   GHG              35 non-null     object \n",
      " 4   Emissions        35 non-null     float64\n",
      " 5   Predicted Value  35 non-null     float64\n",
      "dtypes: float64(2), object(4)\n",
      "memory usage: 1.8+ KB\n"
     ]
    }
   ],
   "source": [
    "# Testset info\n",
    "\n",
    "df_test.info()"
   ]
  },
  {
   "cell_type": "code",
   "execution_count": 144,
   "metadata": {},
   "outputs": [
    {
     "name": "stdout",
     "output_type": "stream",
     "text": [
      "The total number of rows is: 6144\n",
      "The total number of columns is: 6\n",
      "The total number of rows is: 35\n",
      "The total number of columns is: 6\n"
     ]
    }
   ],
   "source": [
    "# checking the number of columns and rows for the trainset\n",
    "\n",
    "print(f\"The total number of rows is: {df.shape[0]}\")\n",
    "print(f\"The total number of columns is: {df.shape[1]}\")\n",
    "\n",
    "# checking the number of columns and rows for the testset\n",
    "\n",
    "print(f\"The total number of rows is: {df_test.shape[0]}\")\n",
    "print(f\"The total number of columns is: {df_test.shape[1]}\")"
   ]
  },
  {
   "cell_type": "code",
   "execution_count": 145,
   "metadata": {},
   "outputs": [
    {
     "data": {
      "text/plain": [
       "Entity        0\n",
       "Code          0\n",
       "Year          0\n",
       "tempchange    0\n",
       "CO2           0\n",
       "Deaths        0\n",
       "dtype: int64"
      ]
     },
     "execution_count": 145,
     "metadata": {},
     "output_type": "execute_result"
    }
   ],
   "source": [
    "# checking for null values\n",
    "\n",
    "df.isnull().sum()"
   ]
  },
  {
   "cell_type": "code",
   "execution_count": 146,
   "metadata": {},
   "outputs": [],
   "source": [
    "# Rename columns (Deaths to cardio_deaths and tempchange to temp_change)\n",
    "\n",
    "df.columns = ['country', 'code', 'year', 'temp_change', 'CO2', 'cardio_deaths']"
   ]
  },
  {
   "cell_type": "code",
   "execution_count": 147,
   "metadata": {},
   "outputs": [
    {
     "data": {
      "text/html": [
       "<div>\n",
       "<style scoped>\n",
       "    .dataframe tbody tr th:only-of-type {\n",
       "        vertical-align: middle;\n",
       "    }\n",
       "\n",
       "    .dataframe tbody tr th {\n",
       "        vertical-align: top;\n",
       "    }\n",
       "\n",
       "    .dataframe thead th {\n",
       "        text-align: right;\n",
       "    }\n",
       "</style>\n",
       "<table border=\"1\" class=\"dataframe\">\n",
       "  <thead>\n",
       "    <tr style=\"text-align: right;\">\n",
       "      <th></th>\n",
       "      <th>country</th>\n",
       "      <th>code</th>\n",
       "      <th>year</th>\n",
       "      <th>temp_change</th>\n",
       "      <th>CO2</th>\n",
       "      <th>cardio_deaths</th>\n",
       "    </tr>\n",
       "  </thead>\n",
       "  <tbody>\n",
       "    <tr>\n",
       "      <th>0</th>\n",
       "      <td>Afghanistan</td>\n",
       "      <td>AFG</td>\n",
       "      <td>1990</td>\n",
       "      <td>0.000894</td>\n",
       "      <td>14209854.0</td>\n",
       "      <td>373.796590</td>\n",
       "    </tr>\n",
       "    <tr>\n",
       "      <th>1</th>\n",
       "      <td>Afghanistan</td>\n",
       "      <td>AFG</td>\n",
       "      <td>1991</td>\n",
       "      <td>0.000891</td>\n",
       "      <td>14436271.0</td>\n",
       "      <td>266.298725</td>\n",
       "    </tr>\n",
       "    <tr>\n",
       "      <th>2</th>\n",
       "      <td>Afghanistan</td>\n",
       "      <td>AFG</td>\n",
       "      <td>1992</td>\n",
       "      <td>0.000891</td>\n",
       "      <td>13517736.0</td>\n",
       "      <td>224.447196</td>\n",
       "    </tr>\n",
       "    <tr>\n",
       "      <th>3</th>\n",
       "      <td>Afghanistan</td>\n",
       "      <td>AFG</td>\n",
       "      <td>1993</td>\n",
       "      <td>0.000890</td>\n",
       "      <td>12913293.0</td>\n",
       "      <td>278.393699</td>\n",
       "    </tr>\n",
       "    <tr>\n",
       "      <th>4</th>\n",
       "      <td>Afghanistan</td>\n",
       "      <td>AFG</td>\n",
       "      <td>1994</td>\n",
       "      <td>0.000888</td>\n",
       "      <td>13214674.0</td>\n",
       "      <td>370.591181</td>\n",
       "    </tr>\n",
       "  </tbody>\n",
       "</table>\n",
       "</div>"
      ],
      "text/plain": [
       "       country code  year  temp_change         CO2  cardio_deaths\n",
       "0  Afghanistan  AFG  1990     0.000894  14209854.0     373.796590\n",
       "1  Afghanistan  AFG  1991     0.000891  14436271.0     266.298725\n",
       "2  Afghanistan  AFG  1992     0.000891  13517736.0     224.447196\n",
       "3  Afghanistan  AFG  1993     0.000890  12913293.0     278.393699\n",
       "4  Afghanistan  AFG  1994     0.000888  13214674.0     370.591181"
      ]
     },
     "execution_count": 147,
     "metadata": {},
     "output_type": "execute_result"
    }
   ],
   "source": [
    "df.head()"
   ]
  },
  {
   "cell_type": "code",
   "execution_count": 148,
   "metadata": {},
   "outputs": [
    {
     "data": {
      "text/html": [
       "<div>\n",
       "<style scoped>\n",
       "    .dataframe tbody tr th:only-of-type {\n",
       "        vertical-align: middle;\n",
       "    }\n",
       "\n",
       "    .dataframe tbody tr th {\n",
       "        vertical-align: top;\n",
       "    }\n",
       "\n",
       "    .dataframe thead th {\n",
       "        text-align: right;\n",
       "    }\n",
       "</style>\n",
       "<table border=\"1\" class=\"dataframe\">\n",
       "  <thead>\n",
       "    <tr style=\"text-align: right;\">\n",
       "      <th></th>\n",
       "      <th>company_name</th>\n",
       "      <th>ticker</th>\n",
       "      <th>ISIN</th>\n",
       "      <th>GHG</th>\n",
       "      <th>CO2</th>\n",
       "      <th>temp_change</th>\n",
       "    </tr>\n",
       "  </thead>\n",
       "  <tbody>\n",
       "    <tr>\n",
       "      <th>0</th>\n",
       "      <td>Acciona</td>\n",
       "      <td>ANA</td>\n",
       "      <td>ES0125220311</td>\n",
       "      <td>CO2</td>\n",
       "      <td>306905.00</td>\n",
       "      <td>4.248217e-06</td>\n",
       "    </tr>\n",
       "    <tr>\n",
       "      <th>1</th>\n",
       "      <td>Acciona Energia</td>\n",
       "      <td>ANE</td>\n",
       "      <td>ES0105563003</td>\n",
       "      <td>CO2</td>\n",
       "      <td>55276.00</td>\n",
       "      <td>5.498951e-07</td>\n",
       "    </tr>\n",
       "    <tr>\n",
       "      <th>2</th>\n",
       "      <td>Acerinox</td>\n",
       "      <td>ACX</td>\n",
       "      <td>ES0132105018</td>\n",
       "      <td>CO2</td>\n",
       "      <td>4333367.00</td>\n",
       "      <td>5.412198e-05</td>\n",
       "    </tr>\n",
       "    <tr>\n",
       "      <th>3</th>\n",
       "      <td>Aena</td>\n",
       "      <td>AENA</td>\n",
       "      <td>ES0105046009</td>\n",
       "      <td>CO2</td>\n",
       "      <td>51516.69</td>\n",
       "      <td>1.100690e-06</td>\n",
       "    </tr>\n",
       "    <tr>\n",
       "      <th>4</th>\n",
       "      <td>Amadeus IT Group</td>\n",
       "      <td>AMS</td>\n",
       "      <td>ES0109067019</td>\n",
       "      <td>CO2</td>\n",
       "      <td>13152.00</td>\n",
       "      <td>2.369140e-07</td>\n",
       "    </tr>\n",
       "  </tbody>\n",
       "</table>\n",
       "</div>"
      ],
      "text/plain": [
       "       company_name ticker          ISIN  GHG         CO2   temp_change\n",
       "0           Acciona    ANA  ES0125220311  CO2   306905.00  4.248217e-06\n",
       "1   Acciona Energia    ANE  ES0105563003  CO2    55276.00  5.498951e-07\n",
       "2          Acerinox    ACX  ES0132105018  CO2  4333367.00  5.412198e-05\n",
       "3              Aena   AENA  ES0105046009  CO2    51516.69  1.100690e-06\n",
       "4  Amadeus IT Group    AMS  ES0109067019  CO2    13152.00  2.369140e-07"
      ]
     },
     "execution_count": 148,
     "metadata": {},
     "output_type": "execute_result"
    }
   ],
   "source": [
    "# rename columns (emissions to CO2 and predicted values to temp_change)\n",
    "\n",
    "df_test.columns = ['company_name', 'ticker', 'ISIN', 'GHG', 'CO2',\n",
    "       'temp_change']\n",
    "df_test.head()"
   ]
  },
  {
   "cell_type": "code",
   "execution_count": 149,
   "metadata": {},
   "outputs": [],
   "source": [
    "# fro the test data, Create the country, code, date \n",
    "df_test['country'] = 'Spain'\n",
    "df_test['code'] = 'ESP'\n",
    "df_test['year'] = 2022"
   ]
  },
  {
   "cell_type": "code",
   "execution_count": 150,
   "metadata": {},
   "outputs": [
    {
     "data": {
      "text/html": [
       "<div>\n",
       "<style scoped>\n",
       "    .dataframe tbody tr th:only-of-type {\n",
       "        vertical-align: middle;\n",
       "    }\n",
       "\n",
       "    .dataframe tbody tr th {\n",
       "        vertical-align: top;\n",
       "    }\n",
       "\n",
       "    .dataframe thead th {\n",
       "        text-align: right;\n",
       "    }\n",
       "</style>\n",
       "<table border=\"1\" class=\"dataframe\">\n",
       "  <thead>\n",
       "    <tr style=\"text-align: right;\">\n",
       "      <th></th>\n",
       "      <th>company_name</th>\n",
       "      <th>ticker</th>\n",
       "      <th>ISIN</th>\n",
       "      <th>GHG</th>\n",
       "      <th>CO2</th>\n",
       "      <th>temp_change</th>\n",
       "      <th>country</th>\n",
       "      <th>code</th>\n",
       "      <th>year</th>\n",
       "    </tr>\n",
       "  </thead>\n",
       "  <tbody>\n",
       "    <tr>\n",
       "      <th>0</th>\n",
       "      <td>Acciona</td>\n",
       "      <td>ANA</td>\n",
       "      <td>ES0125220311</td>\n",
       "      <td>CO2</td>\n",
       "      <td>306905.00</td>\n",
       "      <td>4.248217e-06</td>\n",
       "      <td>Spain</td>\n",
       "      <td>ESP</td>\n",
       "      <td>2022</td>\n",
       "    </tr>\n",
       "    <tr>\n",
       "      <th>1</th>\n",
       "      <td>Acciona Energia</td>\n",
       "      <td>ANE</td>\n",
       "      <td>ES0105563003</td>\n",
       "      <td>CO2</td>\n",
       "      <td>55276.00</td>\n",
       "      <td>5.498951e-07</td>\n",
       "      <td>Spain</td>\n",
       "      <td>ESP</td>\n",
       "      <td>2022</td>\n",
       "    </tr>\n",
       "    <tr>\n",
       "      <th>2</th>\n",
       "      <td>Acerinox</td>\n",
       "      <td>ACX</td>\n",
       "      <td>ES0132105018</td>\n",
       "      <td>CO2</td>\n",
       "      <td>4333367.00</td>\n",
       "      <td>5.412198e-05</td>\n",
       "      <td>Spain</td>\n",
       "      <td>ESP</td>\n",
       "      <td>2022</td>\n",
       "    </tr>\n",
       "    <tr>\n",
       "      <th>3</th>\n",
       "      <td>Aena</td>\n",
       "      <td>AENA</td>\n",
       "      <td>ES0105046009</td>\n",
       "      <td>CO2</td>\n",
       "      <td>51516.69</td>\n",
       "      <td>1.100690e-06</td>\n",
       "      <td>Spain</td>\n",
       "      <td>ESP</td>\n",
       "      <td>2022</td>\n",
       "    </tr>\n",
       "    <tr>\n",
       "      <th>4</th>\n",
       "      <td>Amadeus IT Group</td>\n",
       "      <td>AMS</td>\n",
       "      <td>ES0109067019</td>\n",
       "      <td>CO2</td>\n",
       "      <td>13152.00</td>\n",
       "      <td>2.369140e-07</td>\n",
       "      <td>Spain</td>\n",
       "      <td>ESP</td>\n",
       "      <td>2022</td>\n",
       "    </tr>\n",
       "  </tbody>\n",
       "</table>\n",
       "</div>"
      ],
      "text/plain": [
       "       company_name ticker          ISIN  GHG         CO2   temp_change  \\\n",
       "0           Acciona    ANA  ES0125220311  CO2   306905.00  4.248217e-06   \n",
       "1   Acciona Energia    ANE  ES0105563003  CO2    55276.00  5.498951e-07   \n",
       "2          Acerinox    ACX  ES0132105018  CO2  4333367.00  5.412198e-05   \n",
       "3              Aena   AENA  ES0105046009  CO2    51516.69  1.100690e-06   \n",
       "4  Amadeus IT Group    AMS  ES0109067019  CO2    13152.00  2.369140e-07   \n",
       "\n",
       "  country code  year  \n",
       "0   Spain  ESP  2022  \n",
       "1   Spain  ESP  2022  \n",
       "2   Spain  ESP  2022  \n",
       "3   Spain  ESP  2022  \n",
       "4   Spain  ESP  2022  "
      ]
     },
     "execution_count": 150,
     "metadata": {},
     "output_type": "execute_result"
    }
   ],
   "source": [
    "df_test.head()"
   ]
  },
  {
   "cell_type": "code",
   "execution_count": null,
   "metadata": {},
   "outputs": [],
   "source": []
  },
  {
   "cell_type": "markdown",
   "metadata": {},
   "source": [
    "#### Dropping unwanted features from the data sets\n",
    "\n",
    "- drop country since we already have country code as Code\n",
    "- drop company_name, ticker, ISIN, GHG"
   ]
  },
  {
   "cell_type": "code",
   "execution_count": 151,
   "metadata": {},
   "outputs": [],
   "source": [
    "# Drop the country column in the trainset (df)\n",
    "\n",
    "df = df.drop(\"country\", axis=1)"
   ]
  },
  {
   "cell_type": "code",
   "execution_count": 152,
   "metadata": {},
   "outputs": [],
   "source": [
    "# Drop the company_name, ticker, ISIN, GHG for the testset\n",
    "\n",
    "df_test = df_test.drop([\"country\",\"company_name\", \"ticker\", \"ISIN\", \"GHG\"], axis=1)"
   ]
  },
  {
   "cell_type": "code",
   "execution_count": 153,
   "metadata": {},
   "outputs": [],
   "source": [
    "df = df[[\"year\", \"code\", \"temp_change\", \"CO2\", \"cardio_deaths\"]]\n",
    "df_test = df_test[[\"year\", \"code\", \"temp_change\", \"CO2\"]]"
   ]
  },
  {
   "cell_type": "code",
   "execution_count": 154,
   "metadata": {},
   "outputs": [
    {
     "data": {
      "text/html": [
       "<div>\n",
       "<style scoped>\n",
       "    .dataframe tbody tr th:only-of-type {\n",
       "        vertical-align: middle;\n",
       "    }\n",
       "\n",
       "    .dataframe tbody tr th {\n",
       "        vertical-align: top;\n",
       "    }\n",
       "\n",
       "    .dataframe thead th {\n",
       "        text-align: right;\n",
       "    }\n",
       "</style>\n",
       "<table border=\"1\" class=\"dataframe\">\n",
       "  <thead>\n",
       "    <tr style=\"text-align: right;\">\n",
       "      <th></th>\n",
       "      <th>year</th>\n",
       "      <th>code</th>\n",
       "      <th>temp_change</th>\n",
       "      <th>CO2</th>\n",
       "      <th>cardio_deaths</th>\n",
       "    </tr>\n",
       "  </thead>\n",
       "  <tbody>\n",
       "    <tr>\n",
       "      <th>0</th>\n",
       "      <td>1990</td>\n",
       "      <td>AFG</td>\n",
       "      <td>0.000894</td>\n",
       "      <td>14209854.0</td>\n",
       "      <td>373.796590</td>\n",
       "    </tr>\n",
       "    <tr>\n",
       "      <th>1</th>\n",
       "      <td>1991</td>\n",
       "      <td>AFG</td>\n",
       "      <td>0.000891</td>\n",
       "      <td>14436271.0</td>\n",
       "      <td>266.298725</td>\n",
       "    </tr>\n",
       "    <tr>\n",
       "      <th>2</th>\n",
       "      <td>1992</td>\n",
       "      <td>AFG</td>\n",
       "      <td>0.000891</td>\n",
       "      <td>13517736.0</td>\n",
       "      <td>224.447196</td>\n",
       "    </tr>\n",
       "    <tr>\n",
       "      <th>3</th>\n",
       "      <td>1993</td>\n",
       "      <td>AFG</td>\n",
       "      <td>0.000890</td>\n",
       "      <td>12913293.0</td>\n",
       "      <td>278.393699</td>\n",
       "    </tr>\n",
       "    <tr>\n",
       "      <th>4</th>\n",
       "      <td>1994</td>\n",
       "      <td>AFG</td>\n",
       "      <td>0.000888</td>\n",
       "      <td>13214674.0</td>\n",
       "      <td>370.591181</td>\n",
       "    </tr>\n",
       "  </tbody>\n",
       "</table>\n",
       "</div>"
      ],
      "text/plain": [
       "   year code  temp_change         CO2  cardio_deaths\n",
       "0  1990  AFG     0.000894  14209854.0     373.796590\n",
       "1  1991  AFG     0.000891  14436271.0     266.298725\n",
       "2  1992  AFG     0.000891  13517736.0     224.447196\n",
       "3  1993  AFG     0.000890  12913293.0     278.393699\n",
       "4  1994  AFG     0.000888  13214674.0     370.591181"
      ]
     },
     "execution_count": 154,
     "metadata": {},
     "output_type": "execute_result"
    }
   ],
   "source": [
    "df.head()"
   ]
  },
  {
   "cell_type": "code",
   "execution_count": 155,
   "metadata": {},
   "outputs": [
    {
     "data": {
      "text/html": [
       "<div>\n",
       "<style scoped>\n",
       "    .dataframe tbody tr th:only-of-type {\n",
       "        vertical-align: middle;\n",
       "    }\n",
       "\n",
       "    .dataframe tbody tr th {\n",
       "        vertical-align: top;\n",
       "    }\n",
       "\n",
       "    .dataframe thead th {\n",
       "        text-align: right;\n",
       "    }\n",
       "</style>\n",
       "<table border=\"1\" class=\"dataframe\">\n",
       "  <thead>\n",
       "    <tr style=\"text-align: right;\">\n",
       "      <th></th>\n",
       "      <th>year</th>\n",
       "      <th>code</th>\n",
       "      <th>temp_change</th>\n",
       "      <th>CO2</th>\n",
       "    </tr>\n",
       "  </thead>\n",
       "  <tbody>\n",
       "    <tr>\n",
       "      <th>0</th>\n",
       "      <td>2022</td>\n",
       "      <td>ESP</td>\n",
       "      <td>4.248217e-06</td>\n",
       "      <td>306905.00</td>\n",
       "    </tr>\n",
       "    <tr>\n",
       "      <th>1</th>\n",
       "      <td>2022</td>\n",
       "      <td>ESP</td>\n",
       "      <td>5.498951e-07</td>\n",
       "      <td>55276.00</td>\n",
       "    </tr>\n",
       "    <tr>\n",
       "      <th>2</th>\n",
       "      <td>2022</td>\n",
       "      <td>ESP</td>\n",
       "      <td>5.412198e-05</td>\n",
       "      <td>4333367.00</td>\n",
       "    </tr>\n",
       "    <tr>\n",
       "      <th>3</th>\n",
       "      <td>2022</td>\n",
       "      <td>ESP</td>\n",
       "      <td>1.100690e-06</td>\n",
       "      <td>51516.69</td>\n",
       "    </tr>\n",
       "    <tr>\n",
       "      <th>4</th>\n",
       "      <td>2022</td>\n",
       "      <td>ESP</td>\n",
       "      <td>2.369140e-07</td>\n",
       "      <td>13152.00</td>\n",
       "    </tr>\n",
       "  </tbody>\n",
       "</table>\n",
       "</div>"
      ],
      "text/plain": [
       "   year code   temp_change         CO2\n",
       "0  2022  ESP  4.248217e-06   306905.00\n",
       "1  2022  ESP  5.498951e-07    55276.00\n",
       "2  2022  ESP  5.412198e-05  4333367.00\n",
       "3  2022  ESP  1.100690e-06    51516.69\n",
       "4  2022  ESP  2.369140e-07    13152.00"
      ]
     },
     "execution_count": 155,
     "metadata": {},
     "output_type": "execute_result"
    }
   ],
   "source": [
    "df_test.head()"
   ]
  },
  {
   "cell_type": "code",
   "execution_count": 156,
   "metadata": {},
   "outputs": [
    {
     "name": "stdout",
     "output_type": "stream",
     "text": [
      "Total Number of Duplicates in trainset is: 0\n",
      "Total Number of Duplicates in testset is: 0\n"
     ]
    }
   ],
   "source": [
    "# checking for duplicates values\n",
    "trainset_duplicate = df.duplicated().sum()\n",
    "print(f\"Total Number of Duplicates in trainset is: {trainset_duplicate}\")\n",
    "\n",
    "testset_duplicate = df_test.duplicated().sum()\n",
    "print(f\"Total Number of Duplicates in testset is: {testset_duplicate}\")"
   ]
  },
  {
   "cell_type": "code",
   "execution_count": null,
   "metadata": {},
   "outputs": [],
   "source": []
  },
  {
   "cell_type": "markdown",
   "metadata": {},
   "source": [
    "# Exploratory Data Analysis"
   ]
  },
  {
   "cell_type": "markdown",
   "metadata": {},
   "source": [
    "#### Univariate Analysis\n",
    "\n",
    "---"
   ]
  },
  {
   "cell_type": "code",
   "execution_count": 157,
   "metadata": {},
   "outputs": [
    {
     "data": {
      "text/html": [
       "<div>\n",
       "<style scoped>\n",
       "    .dataframe tbody tr th:only-of-type {\n",
       "        vertical-align: middle;\n",
       "    }\n",
       "\n",
       "    .dataframe tbody tr th {\n",
       "        vertical-align: top;\n",
       "    }\n",
       "\n",
       "    .dataframe thead th {\n",
       "        text-align: right;\n",
       "    }\n",
       "</style>\n",
       "<table border=\"1\" class=\"dataframe\">\n",
       "  <thead>\n",
       "    <tr style=\"text-align: right;\">\n",
       "      <th></th>\n",
       "      <th>year</th>\n",
       "      <th>code</th>\n",
       "      <th>temp_change</th>\n",
       "      <th>CO2</th>\n",
       "      <th>cardio_deaths</th>\n",
       "    </tr>\n",
       "  </thead>\n",
       "  <tbody>\n",
       "    <tr>\n",
       "      <th>0</th>\n",
       "      <td>1990</td>\n",
       "      <td>AFG</td>\n",
       "      <td>0.000894</td>\n",
       "      <td>14209854.0</td>\n",
       "      <td>373.796590</td>\n",
       "    </tr>\n",
       "    <tr>\n",
       "      <th>1</th>\n",
       "      <td>1991</td>\n",
       "      <td>AFG</td>\n",
       "      <td>0.000891</td>\n",
       "      <td>14436271.0</td>\n",
       "      <td>266.298725</td>\n",
       "    </tr>\n",
       "    <tr>\n",
       "      <th>2</th>\n",
       "      <td>1992</td>\n",
       "      <td>AFG</td>\n",
       "      <td>0.000891</td>\n",
       "      <td>13517736.0</td>\n",
       "      <td>224.447196</td>\n",
       "    </tr>\n",
       "    <tr>\n",
       "      <th>3</th>\n",
       "      <td>1993</td>\n",
       "      <td>AFG</td>\n",
       "      <td>0.000890</td>\n",
       "      <td>12913293.0</td>\n",
       "      <td>278.393699</td>\n",
       "    </tr>\n",
       "    <tr>\n",
       "      <th>4</th>\n",
       "      <td>1994</td>\n",
       "      <td>AFG</td>\n",
       "      <td>0.000888</td>\n",
       "      <td>13214674.0</td>\n",
       "      <td>370.591181</td>\n",
       "    </tr>\n",
       "  </tbody>\n",
       "</table>\n",
       "</div>"
      ],
      "text/plain": [
       "   year code  temp_change         CO2  cardio_deaths\n",
       "0  1990  AFG     0.000894  14209854.0     373.796590\n",
       "1  1991  AFG     0.000891  14436271.0     266.298725\n",
       "2  1992  AFG     0.000891  13517736.0     224.447196\n",
       "3  1993  AFG     0.000890  12913293.0     278.393699\n",
       "4  1994  AFG     0.000888  13214674.0     370.591181"
      ]
     },
     "execution_count": 157,
     "metadata": {},
     "output_type": "execute_result"
    }
   ],
   "source": [
    "df.head()"
   ]
  },
  {
   "cell_type": "code",
   "execution_count": 158,
   "metadata": {},
   "outputs": [
    {
     "data": {
      "text/html": [
       "<div>\n",
       "<style scoped>\n",
       "    .dataframe tbody tr th:only-of-type {\n",
       "        vertical-align: middle;\n",
       "    }\n",
       "\n",
       "    .dataframe tbody tr th {\n",
       "        vertical-align: top;\n",
       "    }\n",
       "\n",
       "    .dataframe thead th {\n",
       "        text-align: right;\n",
       "    }\n",
       "</style>\n",
       "<table border=\"1\" class=\"dataframe\">\n",
       "  <thead>\n",
       "    <tr style=\"text-align: right;\">\n",
       "      <th></th>\n",
       "      <th>year</th>\n",
       "      <th>temp_change</th>\n",
       "      <th>CO2</th>\n",
       "      <th>cardio_deaths</th>\n",
       "    </tr>\n",
       "  </thead>\n",
       "  <tbody>\n",
       "    <tr>\n",
       "      <th>count</th>\n",
       "      <td>6144.000000</td>\n",
       "      <td>6.144000e+03</td>\n",
       "      <td>6.144000e+03</td>\n",
       "      <td>6144.000000</td>\n",
       "    </tr>\n",
       "    <tr>\n",
       "      <th>mean</th>\n",
       "      <td>2005.500000</td>\n",
       "      <td>6.596998e-03</td>\n",
       "      <td>2.368965e+08</td>\n",
       "      <td>702.342532</td>\n",
       "    </tr>\n",
       "    <tr>\n",
       "      <th>std</th>\n",
       "      <td>9.233844</td>\n",
       "      <td>2.211205e-02</td>\n",
       "      <td>8.653753e+08</td>\n",
       "      <td>4238.471687</td>\n",
       "    </tr>\n",
       "    <tr>\n",
       "      <th>min</th>\n",
       "      <td>1990.000000</td>\n",
       "      <td>2.270000e-07</td>\n",
       "      <td>-8.858048e+04</td>\n",
       "      <td>-3432.839427</td>\n",
       "    </tr>\n",
       "    <tr>\n",
       "      <th>25%</th>\n",
       "      <td>1997.750000</td>\n",
       "      <td>3.450455e-04</td>\n",
       "      <td>9.524310e+06</td>\n",
       "      <td>0.142907</td>\n",
       "    </tr>\n",
       "    <tr>\n",
       "      <th>50%</th>\n",
       "      <td>2005.500000</td>\n",
       "      <td>1.391079e-03</td>\n",
       "      <td>4.579474e+07</td>\n",
       "      <td>22.244704</td>\n",
       "    </tr>\n",
       "    <tr>\n",
       "      <th>75%</th>\n",
       "      <td>2013.250000</td>\n",
       "      <td>4.082338e-03</td>\n",
       "      <td>1.303098e+08</td>\n",
       "      <td>212.606476</td>\n",
       "    </tr>\n",
       "    <tr>\n",
       "      <th>max</th>\n",
       "      <td>2021.000000</td>\n",
       "      <td>2.800604e-01</td>\n",
       "      <td>1.377427e+10</td>\n",
       "      <td>95031.021970</td>\n",
       "    </tr>\n",
       "  </tbody>\n",
       "</table>\n",
       "</div>"
      ],
      "text/plain": [
       "              year   temp_change           CO2  cardio_deaths\n",
       "count  6144.000000  6.144000e+03  6.144000e+03    6144.000000\n",
       "mean   2005.500000  6.596998e-03  2.368965e+08     702.342532\n",
       "std       9.233844  2.211205e-02  8.653753e+08    4238.471687\n",
       "min    1990.000000  2.270000e-07 -8.858048e+04   -3432.839427\n",
       "25%    1997.750000  3.450455e-04  9.524310e+06       0.142907\n",
       "50%    2005.500000  1.391079e-03  4.579474e+07      22.244704\n",
       "75%    2013.250000  4.082338e-03  1.303098e+08     212.606476\n",
       "max    2021.000000  2.800604e-01  1.377427e+10   95031.021970"
      ]
     },
     "execution_count": 158,
     "metadata": {},
     "output_type": "execute_result"
    }
   ],
   "source": [
    "# Summary statistics\n",
    "\n",
    "df.describe()"
   ]
  },
  {
   "cell_type": "code",
   "execution_count": null,
   "metadata": {},
   "outputs": [],
   "source": []
  },
  {
   "cell_type": "code",
   "execution_count": 164,
   "metadata": {},
   "outputs": [
    {
     "data": {
      "image/png": "[encoded data removed]",
      "text/plain": [
       "<Figure size 640x480 with 1 Axes>"
      ]
     },
     "metadata": {},
     "output_type": "display_data"
    },
    {
     "data": {
      "image/png": "[encoded data removed]",
      "text/plain": [
       "<Figure size 640x480 with 1 Axes>"
      ]
     },
     "metadata": {},
     "output_type": "display_data"
    },
    {
     "data": {
      "image/png": "[encoded data removed]",
      "text/plain": [
       "<Figure size 640x480 with 1 Axes>"
      ]
     },
     "metadata": {},
     "output_type": "display_data"
    },
    {
     "data": {
      "image/png": "[encoded data removed]",
      "text/plain": [
       "<Figure size 640x480 with 1 Axes>"
      ]
     },
     "metadata": {},
     "output_type": "display_data"
    }
   ],
   "source": [
    "# Plot histograms for each numerical column\n",
    "for col in df.select_dtypes(exclude=\"object\"):\n",
    "    # plt.figure(figsize=(12, 5))\n",
    "    sns.distplot(df[col].dropna(), bins=30, kde=True)\n",
    "    plt.title(f'Distribution Plot of {col}')\n",
    "    plt.xlabel(col)\n",
    "    plt.ylabel('Density')\n",
    "    plt.tight_layout()\n",
    "    plt.show()"
   ]
  },
  {
   "cell_type": "code",
   "execution_count": 165,
   "metadata": {},
   "outputs": [
    {
     "data": {
      "image/png": "[encoded data removed]",
      "text/plain": [
       "<Figure size 640x480 with 1 Axes>"
      ]
     },
     "metadata": {},
     "output_type": "display_data"
    },
    {
     "data": {
      "image/png": "[encoded data removed]",
      "text/plain": [
       "<Figure size 640x480 with 1 Axes>"
      ]
     },
     "metadata": {},
     "output_type": "display_data"
    },
    {
     "data": {
      "image/png": "[encoded data removed]",
      "text/plain": [
       "<Figure size 640x480 with 1 Axes>"
      ]
     },
     "metadata": {},
     "output_type": "display_data"
    },
    {
     "data": {
      "image/png": "[encoded data removed]",
      "text/plain": [
       "<Figure size 640x480 with 1 Axes>"
      ]
     },
     "metadata": {},
     "output_type": "display_data"
    }
   ],
   "source": [
    "# for boxplot for each numerical column, run a for loop to plot box plot for each colum\n",
    "\n",
    "for col in df.select_dtypes(exclude=\"object\"):\n",
    "    sns.boxplot(x=df[col].dropna())\n",
    "    plt.title(f'Box Plot of {col}')\n",
    "    plt.xlabel(col)\n",
    "    plt.tight_layout()\n",
    "    plt.show()"
   ]
  },
  {
   "cell_type": "code",
   "execution_count": null,
   "metadata": {},
   "outputs": [],
   "source": []
  },
  {
   "cell_type": "markdown",
   "metadata": {},
   "source": [
    "### Observations\n",
    "\n",
    "1. **Year**\n",
    "   - **Mean**: 2005.5\n",
    "     - The average year in the dataset is 2005.5.\n",
    "   - **Standard Deviation (std)**: 9.233844\n",
    "     - There is a reasonable variation in the years, consistent with a 31-year range.\n",
    "   - **Range**: 1990 to 2021\n",
    "     - The data spans from 1990 to 2021.\n",
    "\n",
    "2. **temp_change**\n",
    "   - **Mean**: 0.006597\n",
    "     - The average temperature change is 0.006597.\n",
    "   - **Standard Deviation (std)**: 0.022112\n",
    "     - Indicates a considerable variation in temperature change.\n",
    "   - **Range**: 0.000000227 to 0.2800604\n",
    "     - The smallest temperature change recorded is very close to zero, while the highest is 0.2800604.\n",
    "   - **Quartiles**:\n",
    "     - 25% of the records have a temperature change of 0.000345 or less.\n",
    "     - The median temperature change is 0.001391.\n",
    "     - 75% of the records have a temperature change of 0.004082 or less.\n",
    "   - **Skewness**: The high standard deviation and the difference between the mean and the median suggest a right-skewed distribution with some large outliers.\n",
    "\n",
    "3. **CO2**\n",
    "   - **Mean**: 236,896,500\n",
    "     - The average CO2 emission is 236,896,500 units.\n",
    "   - **Standard Deviation (std)**: 865,375,300\n",
    "     - Indicates a very high variation in CO2 emissions, suggesting the presence of outliers or a wide range.\n",
    "   - **Range**: -88,580.48 to 13,774,270,000\n",
    "     - There are negative values, which might indicate data entry errors or special cases that need investigation, and the maximum value is significantly higher.\n",
    "   - **Quartiles**:\n",
    "     - 25% of the records have CO2 emissions of 9,524,310 or less.\n",
    "     - The median CO2 emission is 45,794,740.\n",
    "     - 75% of the records have CO2 emissions of 130,309,800 or less.\n",
    "   - **Skewness**: The very high standard deviation and range, along with the presence of negative values, suggest a need for data cleaning and handling of outliers.\n",
    "\n",
    "4. **cardio_deaths**\n",
    "   - **Mean**: 702.342532\n",
    "     - The average number of cardiovascular deaths is 702.34.\n",
    "   - **Standard Deviation (std)**: 4238.471687\n",
    "     - Indicates a very high variation in cardiovascular deaths.\n",
    "   - **Range**: -3432.839427 to 95,031.021970\n",
    "     - The presence of negative values suggests possible data issues that need investigation.\n",
    "   - **Quartiles**:\n",
    "     - 25% of the records have cardiovascular deaths of 0.142907 or less.\n",
    "     - The median number of cardiovascular deaths is 22.24.\n",
    "     - 75% of the records have cardiovascular deaths of 212.61 or less.\n",
    "   - **Skewness**: The high standard deviation and the difference between the mean and the median indicate the influence of large outliers and a highly skewed distribution."
   ]
  },
  {
   "cell_type": "code",
   "execution_count": null,
   "metadata": {},
   "outputs": [],
   "source": []
  },
  {
   "cell_type": "code",
   "execution_count": 166,
   "metadata": {},
   "outputs": [],
   "source": [
    "# Create a Function to remove outliers based on Inter Quantile Range (IQR)\n",
    "\n",
    "def remove_outliers(df, columns):\n",
    "    for column in columns:\n",
    "        Q1 = df[column].quantile(0.25)\n",
    "        Q3 = df[column].quantile(0.75)\n",
    "        IQR = Q3 - Q1\n",
    "        lower_bound = Q1 - 1.5 * IQR\n",
    "        upper_bound = Q3 + 1.5 * IQR\n",
    "        df = df[(df[column] >= lower_bound) & (df[column] <= upper_bound)]\n",
    "    return df"
   ]
  },
  {
   "cell_type": "code",
   "execution_count": null,
   "metadata": {},
   "outputs": [],
   "source": []
  },
  {
   "cell_type": "code",
   "execution_count": null,
   "metadata": {},
   "outputs": [],
   "source": []
  },
  {
   "cell_type": "code",
   "execution_count": null,
   "metadata": {},
   "outputs": [],
   "source": []
  },
  {
   "cell_type": "code",
   "execution_count": null,
   "metadata": {},
   "outputs": [],
   "source": []
  },
  {
   "cell_type": "code",
   "execution_count": null,
   "metadata": {},
   "outputs": [],
   "source": []
  },
  {
   "cell_type": "code",
   "execution_count": null,
   "metadata": {},
   "outputs": [],
   "source": []
  },
  {
   "cell_type": "code",
   "execution_count": null,
   "metadata": {},
   "outputs": [],
   "source": []
  },
  {
   "cell_type": "code",
   "execution_count": null,
   "metadata": {},
   "outputs": [],
   "source": []
  },
  {
   "cell_type": "code",
   "execution_count": null,
   "metadata": {},
   "outputs": [],
   "source": []
  },
  {
   "cell_type": "code",
   "execution_count": null,
   "metadata": {},
   "outputs": [],
   "source": []
  },
  {
   "cell_type": "code",
   "execution_count": null,
   "metadata": {},
   "outputs": [],
   "source": []
  },
  {
   "cell_type": "code",
   "execution_count": null,
   "metadata": {},
   "outputs": [],
   "source": []
  },
  {
   "cell_type": "code",
   "execution_count": null,
   "metadata": {},
   "outputs": [],
   "source": []
  },
  {
   "cell_type": "code",
   "execution_count": null,
   "metadata": {},
   "outputs": [],
   "source": []
  },
  {
   "cell_type": "code",
   "execution_count": null,
   "metadata": {},
   "outputs": [],
   "source": []
  },
  {
   "cell_type": "code",
   "execution_count": null,
   "metadata": {},
   "outputs": [],
   "source": []
  },
  {
   "cell_type": "code",
   "execution_count": null,
   "metadata": {},
   "outputs": [],
   "source": []
  },
  {
   "cell_type": "code",
   "execution_count": null,
   "metadata": {},
   "outputs": [],
   "source": []
  },
  {
   "cell_type": "code",
   "execution_count": null,
   "metadata": {},
   "outputs": [],
   "source": []
  },
  {
   "cell_type": "code",
   "execution_count": null,
   "metadata": {},
   "outputs": [],
   "source": []
  },
  {
   "cell_type": "code",
   "execution_count": null,
   "metadata": {},
   "outputs": [],
   "source": []
  },
  {
   "cell_type": "code",
   "execution_count": null,
   "metadata": {},
   "outputs": [],
   "source": []
  },
  {
   "cell_type": "code",
   "execution_count": null,
   "metadata": {},
   "outputs": [],
   "source": []
  },
  {
   "cell_type": "code",
   "execution_count": null,
   "metadata": {},
   "outputs": [],
   "source": []
  },
  {
   "cell_type": "code",
   "execution_count": null,
   "metadata": {},
   "outputs": [],
   "source": []
  }
 ],
 "metadata": {
  "kernelspec": {
   "display_name": "base",
   "language": "python",
   "name": "python3"
  },
  "language_info": {
   "codemirror_mode": {
    "name": "ipython",
    "version": 3
   },
   "file_extension": ".py",
   "mimetype": "text/x-python",
   "name": "python",
   "nbconvert_exporter": "python",
   "pygments_lexer": "ipython3",
   "version": "3.9.18"
  }
 },
 "nbformat": 4,
 "nbformat_minor": 2
}
